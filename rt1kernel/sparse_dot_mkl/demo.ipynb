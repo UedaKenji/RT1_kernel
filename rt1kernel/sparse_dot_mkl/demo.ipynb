{
 "cells": [
  {
   "cell_type": "code",
   "execution_count": 1,
   "metadata": {},
   "outputs": [],
   "source": [
    "import scipy.sparse as sps\n",
    "import numpy as np\n",
    "import os \n",
    "import sys \n",
    "\n",
    "sys.path.insert(0,os.pardir)\n",
    "try:\n",
    "    import sparse_dot_mkl\n",
    "    dot_product = sparse_dot_mkl.dot_product_mkl\n",
    "except ImportError:\n",
    "    def dot_product(x, y, dense=False, **kwargs):\n",
    "        z = x @ y\n",
    "        return z.A if dense and sps.issparse(z) else z "
   ]
  },
  {
   "cell_type": "code",
   "execution_count": 21,
   "metadata": {},
   "outputs": [
    {
     "name": "stdout",
     "output_type": "stream",
     "text": [
      "X sparsity: 93.32 %\n"
     ]
    }
   ],
   "source": [
    "np.random.seed(0)\n",
    "X = np.random.randn(500, 30000)\n",
    "X[X < 1.5] = 0\n",
    "X = sps.csr_matrix(X)\n",
    "print(f'X sparsity: {100 * (1 - X.count_nonzero() / np.prod(X.shape)):5.2f} %')"
   ]
  },
  {
   "cell_type": "code",
   "execution_count": 22,
   "metadata": {},
   "outputs": [
    {
     "data": {
      "text/plain": [
       "<500x500 sparse matrix of type '<class 'numpy.float64'>'\n",
       "\twith 250000 stored elements in Compressed Sparse Row format>"
      ]
     },
     "execution_count": 22,
     "metadata": {},
     "output_type": "execute_result"
    }
   ],
   "source": [
    "X @ X.T"
   ]
  },
  {
   "cell_type": "code",
   "execution_count": 23,
   "metadata": {},
   "outputs": [],
   "source": [
    "expected_result = (X @ X.T).toarray()\n",
    "expected_result_tril = expected_result.copy()\n",
    "expected_result_tril[np.tril_indices(expected_result.shape[0], k=-1)] = 0"
   ]
  },
  {
   "cell_type": "code",
   "execution_count": 24,
   "metadata": {},
   "outputs": [
    {
     "data": {
      "text/plain": [
       "True"
      ]
     },
     "execution_count": 24,
     "metadata": {},
     "output_type": "execute_result"
    }
   ],
   "source": [
    "mkl_result1 = sparse_dot_mkl.dot_product_mkl(X, X.T)\n",
    "np.allclose(mkl_result1.toarray(), expected_result)"
   ]
  },
  {
   "cell_type": "code",
   "execution_count": 25,
   "metadata": {},
   "outputs": [
    {
     "data": {
      "text/plain": [
       "True"
      ]
     },
     "execution_count": 25,
     "metadata": {},
     "output_type": "execute_result"
    }
   ],
   "source": [
    "mkl_result2 = sparse_dot_mkl.gram_matrix_mkl(X, transpose=True)\n",
    "np.allclose(mkl_result2.toarray(), expected_result_tril)"
   ]
  },
  {
   "cell_type": "code",
   "execution_count": 27,
   "metadata": {},
   "outputs": [
    {
     "name": "stdout",
     "output_type": "stream",
     "text": [
      "Scipy Matrix Multiplication Product:\n",
      "205 ms ± 17.6 ms per loop (mean ± std. dev. of 7 runs, 1 loop each)\n",
      "MKL Matrix Multiplication Product:\n",
      "63 ms ± 4.54 ms per loop (mean ± std. dev. of 7 runs, 10 loops each)\n",
      "MKL Gram Matrix Product:\n",
      "72.6 ms ± 8.07 ms per loop (mean ± std. dev. of 7 runs, 10 loops each)\n"
     ]
    }
   ],
   "source": [
    "print(\"Scipy Matrix Multiplication Product:\")\n",
    "%timeit X @ X.T\n",
    "\n",
    "print(\"MKL Matrix Multiplication Product:\")\n",
    "%timeit sparse_dot_mkl.dot_product_mkl(X, X.T)\n",
    "\n",
    "print(\"MKL Gram Matrix Product:\")\n",
    "%timeit sparse_dot_mkl.dot_product_transpose_mkl(X, transpose=True)"
   ]
  },
  {
   "cell_type": "code",
   "execution_count": 10,
   "metadata": {},
   "outputs": [],
   "source": [
    "np.random.seed(0)\n",
    "X = np.random.randn(500, 5000)\n",
    "X[X < 0.8] = 0\n",
    "X = sps.csr_matrix(X)\n",
    "\n",
    "Y = np.random.randn(500, 5000)\n",
    "Y[Y < 0.8] = 0\n",
    "Y = sps.csr_matrix(Y)\n"
   ]
  },
  {
   "cell_type": "code",
   "execution_count": 11,
   "metadata": {},
   "outputs": [
    {
     "name": "stdout",
     "output_type": "stream",
     "text": [
      "Scipy Matrix Multiplication Product:\n",
      "130 ms ± 4.69 ms per loop (mean ± std. dev. of 7 runs, 10 loops each)\n",
      "MKL Matrix Multiplication Product:\n",
      "41.5 ms ± 1.17 ms per loop (mean ± std. dev. of 7 runs, 10 loops each)\n"
     ]
    }
   ],
   "source": [
    "print(\"Scipy Matrix Multiplication Product:\")\n",
    "%timeit X @ Y.T\n",
    "\n",
    "print(\"MKL Matrix Multiplication Product:\")\n",
    "%timeit sparse_dot_mkl.dot_product_mkl(X, Y.T)\n"
   ]
  }
 ],
 "metadata": {
  "kernelspec": {
   "display_name": "base",
   "language": "python",
   "name": "python3"
  },
  "language_info": {
   "codemirror_mode": {
    "name": "ipython",
    "version": 3
   },
   "file_extension": ".py",
   "mimetype": "text/x-python",
   "name": "python",
   "nbconvert_exporter": "python",
   "pygments_lexer": "ipython3",
   "version": "3.11.3"
  }
 },
 "nbformat": 4,
 "nbformat_minor": 4
}
